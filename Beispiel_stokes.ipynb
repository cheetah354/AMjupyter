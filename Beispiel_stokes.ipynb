{
 "cells": [
  {
   "cell_type": "markdown",
   "metadata": {},
   "source": [
    "# Übung: Fall mit Stokes Reibung\n",
    "\n",
    "Dieses Notebook ist eine Art Lückentext mit dessen Hilfe Ihr ein einfaches pyhsikalisches Problem, den Fall mit Stokes-Reibung berechnen und darstellen könnt. (siehe Hausaufgabe 3.1)\n",
    "\n",
    "Die Formel zur Berechnung der Höhe lautet:\n",
    "\n",
    "\\begin{align*}\n",
    " h(t)= \\left( \\frac{m}{\\beta}\\right) \\cdot \\left(v_0 + \\frac{m\\cdot g}{\\beta}\\right) \\left(1-\\exp\\left(-\\frac{\\beta t}{m} \\right) \\right) - \\frac{mg}{\\beta} \\cdot t +h_0\n",
    "\\end{align*}\n",
    "\n",
    "$\\beta$ ist ein Reibungskoeffizient für die Reibungskraft, die sich proportional zur Fallgeschwindigkeit $v$ verhält, und $v_0=0$ [ms$^{-1}$] die Anfangsgeschwindigkeit.\n",
    "$h_0$ ist die Ausgangshöhe und $g$ ist die Erdbeschleunigung 9.81 [ms$^{-2}$].\n",
    "\n",
    "Wir wollen im Folgenden den zeitlichen Verlauf des Falls für verschiedene Reibungskoeffizienten berechnen.\n",
    "Die Starbedingungen seien:\n",
    "\n",
    "$$v_0=0$$\n",
    "$$\\beta=[1,0.6,0.4]$$\n",
    "$$h_0=1000$$\n",
    "$$m=1$$\n",
    "\n",
    "\n",
    "(in Analogie zum Übungsblatt $\\gamma=\\frac{\\beta}{m}$)"
   ]
  },
  {
   "cell_type": "markdown",
   "metadata": {},
   "source": [
    "## Importieren der Bibliotheken\n",
    "\n",
    "Zunächst importieren wir die Bibliotheken, die wir im Folgenden verwenden wollen."
   ]
  },
  {
   "cell_type": "code",
   "execution_count": 5,
   "metadata": {},
   "outputs": [],
   "source": [
    "import numpy as np \n",
    "import matplotlib.pyplot as plt\n",
    "from scipy.constants import g \n",
    "\n",
    "#Scipy enthält neben vielen nützlichen Funktionen, \n",
    "#u.a. zur Optimierung und numerischen Integration,\n",
    "#auch die gängigen pyhsikalischen Konstanten. \n",
    "#Hier importieren wir uns lediglich g\n",
    "\n"
   ]
  },
  {
   "cell_type": "markdown",
   "metadata": {},
   "source": [
    "## Definieren der Funktionen\n",
    "\n",
    "Als nächstes wollen wir Funktionen definieren, die uns die gewünschten Werte berechnen.\n",
    "Dazu sollte man sich anhand der Aufgabenstellung überlegen was berechnet werden soll.\n",
    "Unsere Grundfunktion ist natürlich die in der Aufgabenstellung angegebene Formel zur Berechnung der Höhe.\n",
    "\n",
    "Also definieren wir zunächst eine Funktion, die uns als Rückgabewert unsere aktuelle Höhe liefert:"
   ]
  },
  {
   "cell_type": "code",
   "execution_count": 6,
   "metadata": {},
   "outputs": [],
   "source": [
    "def h_t(fric, t, h0, v0=0):\n",
    "    # fric --> 1/gamma\n",
    "    return fric*(v0+fric*g)*(1-np.exp(-t/fric))-fric*g*t+h0\n",
    "\n",
    "#Hinweis: man kann in der funktionsdefinition einem Argument bereits einen Default-Wert zuweisen. zB v0=0\n",
    "#         wird später im Funktionsaufruf kein Wert an der entsprechenden Stelle angegeben, wird automatisch \n",
    "#         dieser Wert angenommen"
   ]
  },
  {
   "cell_type": "markdown",
   "metadata": {},
   "source": [
    "Diese Funktion können wir nun direkt testen!\n",
    "Hierfür überlegen wir uns die Startbedingungen, die Inkrementierung und eine Abbruchbedingung.\n"
   ]
  },
  {
   "cell_type": "code",
   "execution_count": 7,
   "metadata": {},
   "outputs": [],
   "source": [
    "# Ergänze die Startbedinungen (v0, h0,t0,m ,beta)\n",
    "\n",
    "v0=0\n",
    "h0=h=1000\n",
    "t=0\n",
    "m=1\n",
    "b=0.5\n",
    "fric=m/b\n",
    "\n",
    "# Definiere einen Zeitschritt dt und erstelle eine while-Schleife,\n",
    "# die die Zeit inkrementiert und die entspechende Höhe ausrechnet\n",
    "# Die Schleife soll stoppen wenn unser Objekt eine Höhe von 0 erreicht hat.\n",
    "dt=1\n",
    "\n",
    "while h>=0:\n",
    "    h=h_t(fric,t,h0,v0)\n",
    "    t=t+dt\n"
   ]
  },
  {
   "cell_type": "markdown",
   "metadata": {},
   "source": [
    "Sofern unsere Schleife funktioniert und sinnvolle Werte liefert, sind wir eigendlich schon in der Lage die Aufgabe zu lösen. Dafür würden wir Startbedinungen verändern und die Zelle mit den neuen Werten erneut ausführen.\n",
    "Schöner wäre es allerdings, wenn man dise Aufgabe etwas abkürzen könnte.\n",
    "\n",
    "Dafür wollen wir unsere Berechungsschleife in eine weitere Funktion einbauen, die als Argumente die Starbedingungen nimmt und die Ergebnisse in Arrays speichert.\n",
    "So können wir einfach unsere Bedinungen ändern und die Werte speichern um sie später gemeinsam darzustellen."
   ]
  },
  {
   "cell_type": "code",
   "execution_count": 9,
   "metadata": {},
   "outputs": [],
   "source": [
    "# Definiere eine Funktion, die  die Startbedingungen als Argumente besitzt \n",
    "# und Arrays mit den berechneten Höhen bzw den Zeitschitten zurück liefert.\n",
    "\n",
    "def run(h0, dt, beta, m=1, v0=0):\n",
    "    print(\"An object of mass\",m, \"kg falls from a hight of\", h0, \"m.\\n\"\n",
    "         \"beta=\",beta,\"dt=\",dt,\"v0=\",v0,\"\\n\")  \n",
    "    fric = m/beta\n",
    "    hoehe=h0\n",
    "    t=dt\n",
    "    \n",
    "    time= np.array([0])   #Array für die Zeitpunkte der Berechnung (erster Wert: t0=0)\n",
    "    height=np.array([h0])  #Array für die Zeitpunkte der Berechnung (erster Wert: h0)\n",
    "    \n",
    "    \n",
    "    while hoehe >= 0.:\n",
    "        hoehe= h_t(fric,t,h0)\n",
    "        height=np.append(height,[hoehe])\n",
    "        time=np.append(time,[t])\n",
    "        t= t+dt\n",
    "  \n",
    "    return time, height  # Rückgabe der Arrays"
   ]
  },
  {
   "cell_type": "markdown",
   "metadata": {},
   "source": [
    "## Berechnung\n",
    "\n",
    "Es ist vollbracht! Wollen wir unsere Kurve mit verschiedenen Startwerten berechnen und vergleichen.\n",
    "Variiere hierfür zunächste den Reibungskoeffizienten $\\beta$. Speichere die von der Funktion zurückgegebenen Arrays für jedes Parameter-Set in zwei neue Variablen.\n"
   ]
  },
  {
   "cell_type": "code",
   "execution_count": 10,
   "metadata": {},
   "outputs": [
    {
     "name": "stdout",
     "output_type": "stream",
     "text": [
      "An object of mass 1 kg falls from a hight of 1000 m.\n",
      "beta= 1.0 dt= 0.5 v0= 0 \n",
      "\n",
      "An object of mass 1 kg falls from a hight of 1000 m.\n",
      "beta= 0.5 dt= 0.5 v0= 0 \n",
      "\n",
      "An object of mass 1 kg falls from a hight of 1000 m.\n",
      "beta= 0.4 dt= 0.5 v0= 0 \n",
      "\n"
     ]
    }
   ],
   "source": [
    "# Berechne die Bahnkurve für beta=[1.0,0.7,0.4] \n",
    "# mit einem Zeitschritt von dt=0.5 und einer Starhöhe von h0=100m\n",
    "time,height=run(1000,0.5,1.0)\n",
    "\n",
    "time2,height2=run(1000,0.5,0.5)\n",
    "time3,height3=run(1000,0.5,0.4)\n"
   ]
  },
  {
   "cell_type": "markdown",
   "metadata": {},
   "source": [
    "## Darstellung der Ergebnisse\n",
    "\n",
    "Im folgenden wollen die die Trajektorie unseres Fallenden Gegenstands plotten und unsere Endgeschwindigkeit bestimmen.\n",
    "\n",
    "### Trajektorie"
   ]
  },
  {
   "cell_type": "code",
   "execution_count": 11,
   "metadata": {},
   "outputs": [
    {
     "data": {
      "image/png": "[encoded data removed]",
      "text/plain": [
       "<matplotlib.figure.Figure at 0x7fe981ecf710>"
      ]
     },
     "metadata": {},
     "output_type": "display_data"
    }
   ],
   "source": [
    "# Wir gehen hier genau wie im Einführungteil vor\n",
    "# Zuerst erstellen wir die einzelnen Graphen mit plt.plot\n",
    "# und Setzen unsere Plot-Eigenschaften, wie Titel usw.\n",
    "# zum Schluss wir alles mit plot.show() ausgegeben\n",
    "\n",
    "\n",
    "# Ergänze den Plot um die weiteren Datensets\n",
    "plt.plot(time,height, label=r'$\\beta=1$')\n",
    "plt.plot(time2,height2, label=r'$\\beta=0.5$')\n",
    "plt.plot(time3,height3, label=r'$\\beta=0.2$')\n",
    "\n",
    "# Ergänze sinnvolle Werte für\n",
    "\n",
    "#den Wertebereich von x,y-Achse\n",
    "plt.xlim(0, )     \n",
    "plt.ylim(0 ,1000)  \n",
    "\n",
    "# Titel für den Plot und die Achsen\n",
    "plt.xlabel('time in [s]')   \n",
    "plt.ylabel('height in [m]')\n",
    "plt.title(\"Fall mir Stokes-Reibung\\n\")\n",
    "plt.legend()   # Fasst die vergebenen Label in einer Legende zusammen\n",
    "\n",
    "plt.show()\n",
    "\n",
    "\n"
   ]
  },
  {
   "cell_type": "markdown",
   "metadata": {},
   "source": [
    "### Engeschwindigkeit\n",
    "\n",
    "Die Endgeschwindigkeit, enschpricht der Steigung des linearen Bereichs unserer Bahnkurve.\n",
    "Für $t\\rightarrow\\infty$ erwarten wir, dass sich unsere Geschwindkeit \n",
    "\n",
    "$\\frac{\\text{d}h(t)}{\\text{d} t}= v(t)=-\\frac{mg}{\\beta}\\cdot(1-\\exp(-\\frac{\\beta t}{m})) + v_0 \\cdot \\exp(-\\frac{\\beta t}{m})$\n",
    "\n",
    "den Wert $-\\frac{mg}{\\beta}$ annähert.\n",
    "\n",
    "Das Wollen wir im Folgenden überprüfen. \n",
    "Hierzu wollen wir zum Einen mit einem Linearen Fit die Steigung bestimmen und zum anderen mit Hilfe der numpy.gradient funktion die Geschwindigkeiten in Abhängikeit zur Zeit plotten, um uns das Ergebnis zu veranschaulichen."
   ]
  },
  {
   "cell_type": "code",
   "execution_count": 14,
   "metadata": {},
   "outputs": [
    {
     "name": "stdout",
     "output_type": "stream",
     "text": [
      "Wir erreichen eine Endgeschwindigkeit von 9.80659914875 m/s\n",
      "Wir erreichen eine Endgeschwindigkeit von 19.5962721456 m/s\n",
      "Wir erreichen eine Endgeschwindigkeit von 24.4379652371 m/s\n"
     ]
    }
   ],
   "source": [
    "# Schaue dir mit \n",
    "#np.ployfit?\n",
    "#np.gradient?\n",
    "#np.abs?\n",
    "#Die Dokumentation der verwendeten Befehle an, um zu verstehen, \n",
    "#Was diese Funktionen tun und welche Argumente sie benötigen\n",
    "\n",
    "# Wir definieren zwei Parameter m.b für unseren linearen Fit (y=m*x+b)\n",
    "# Da wir nur den Linearen Bereich unserer Funktion betrachten wollen,\n",
    "# schließen wir über sclicing die Ersten Werte aus\n",
    "m,b = np.polyfit(time[10:], height[10:], 1)\n",
    "print(\"Wir erreichen eine Endgeschwindigkeit von\",np.abs(m),\"m/s\")\n",
    "# Berechne nach dem gleichen Schema auch die Endgeschwindigkeiten der beiden anderen Datensets:\n",
    "\n",
    "m,b = np.polyfit(time2[10:], height2[10:], 1)\n",
    "print(\"Wir erreichen eine Endgeschwindigkeit von\",np.abs(m),\"m/s\")\n",
    "\n",
    "m,b = np.polyfit(time3[10:], height3[10:], 1)\n",
    "print(\"Wir erreichen eine Endgeschwindigkeit von\",np.abs(m),\"m/s\")"
   ]
  },
  {
   "cell_type": "code",
   "execution_count": 15,
   "metadata": {},
   "outputs": [
    {
     "data": {
      "image/png": "[encoded data removed]",
      "text/plain": [
       "<matplotlib.figure.Figure at 0x7fe97fe994e0>"
      ]
     },
     "metadata": {},
     "output_type": "display_data"
    }
   ],
   "source": [
    "# Hier Werden die Geschwindigkeiten berechnet und geplottet\n",
    "# (natürlich hätte man in unserem Fall die Geschwindigkeit auch direkt ausrechnen können,\n",
    "# aber für Fälle in denen nicht die exakte Lösung bekannt ist kann man die Funktion np.gradient verwenden)\n",
    "\n",
    "# Ergänze die Plot-Beschriftung und die beiden weiteren Datensätze.\n",
    "\n",
    "v=np.abs(np.gradient(height,0.5))\n",
    "v2=np.abs(np.gradient(height2,0.5))\n",
    "v3=np.abs(np.gradient(height3,0.5))\n",
    "\n",
    "\n",
    "# Titel für den Plot und die Achsen\n",
    "plt.xlabel('time in [s]')   \n",
    "plt.ylabel('velocity in [m]')\n",
    "plt.title(\"Fall mir Stokes-Reibung\\n\")\n",
    "\n",
    "plt.plot(time,v, label=r'$\\beta=1$')\n",
    "plt.plot(time2,v2, label=r'$\\beta=0.5$')\n",
    "plt.plot(time3,v3, label=r'$\\beta=0.2$')\n",
    "plt.legend()\n",
    "\n",
    "plt.show()"
   ]
  },
  {
   "cell_type": "markdown",
   "metadata": {},
   "source": [
    "# Links\n",
    "\n",
    "\n",
    "- https://gitlab.gwdg.de/jschulz1/math_prog (Python-Vorlesung von Jochen Schulz)\n",
    "- https://github.com/jakevdp/PythonDataScienceHandbook (Kapitel 1,2,4)\n",
    "- https://github.com/ipython/ipython-in-depth \n"
   ]
  },
  {
   "cell_type": "code",
   "execution_count": null,
   "metadata": {},
   "outputs": [],
   "source": []
  }
 ],
 "metadata": {
  "kernelspec": {
   "display_name": "Python 3",
   "language": "python",
   "name": "python3"
  },
  "language_info": {
   "codemirror_mode": {
    "name": "ipython",
    "version": 3
   },
   "file_extension": ".py",
   "mimetype": "text/x-python",
   "name": "python",
   "nbconvert_exporter": "python",
   "pygments_lexer": "ipython3",
   "version": "3.6.5"
  }
 },
 "nbformat": 4,
 "nbformat_minor": 2
}
