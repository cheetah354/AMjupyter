{
 "cells": [
  {
   "cell_type": "markdown",
   "metadata": {},
   "source": [
    "# Kleine Einführung in Python\n",
    "\n",
    "Liebe Studierende, dieses Notebook soll eine kurze Einführung in Python und die Jupyter-Notebooks zur Mechanik Vorlesung bieten. Wir beginnen mit absoluten Python Basics und wollen uns im Verlauf als Beispiel zur Nutzung der Notebooks anschauen, wie man eine Funktion berechnen und darstellen kann.\n",
    "\n",
    "Übrigens, dies ist eine Zelle vom Type 'Markdown'. In diesem Zellentyp kann Latex-Syntax verwendet werden, insbesondere zur Darstellung von Formeln, z.B. \n",
    "\n",
    "$$\\vec{F}=-\\vec{\\nabla}V(\\vec{r})$$\n",
    "\n",
    "## Hello World: Einfache Ein- und Ausgaben auf dem Bildschirm"
   ]
  },
  {
   "cell_type": "code",
   "execution_count": 9,
   "metadata": {},
   "outputs": [
    {
     "name": "stdout",
     "output_type": "stream",
     "text": [
      "Hello World\n"
     ]
    }
   ],
   "source": [
    "print('Hello World')"
   ]
  },
  {
   "cell_type": "code",
   "execution_count": 31,
   "metadata": {},
   "outputs": [
    {
     "name": "stdout",
     "output_type": "stream",
     "text": [
      "Who are you? Steffen\n",
      "Hello  Steffen , I am your Notebook!\n"
     ]
    }
   ],
   "source": [
    "name=input('Who are you? ') \n",
    "print('Hello ',name,', I am your Notebook!') #ein string kann einfach mit Variablen kombiniert werden"
   ]
  },
  {
   "cell_type": "markdown",
   "metadata": {},
   "source": [
    "## Get Help"
   ]
  },
  {
   "cell_type": "code",
   "execution_count": 11,
   "metadata": {},
   "outputs": [],
   "source": [
    "#Öffnet Documentation\n",
    "?"
   ]
  },
  {
   "cell_type": "code",
   "execution_count": 12,
   "metadata": {},
   "outputs": [],
   "source": [
    "# Dokumentation einzelner Befehle\n",
    "print?"
   ]
  },
  {
   "cell_type": "markdown",
   "metadata": {},
   "source": [
    "# Typen und elementare Operationen\n",
    "\n",
    "- Alle Werte in Python sind Objekte und werden einem bestimmten Typ zugewiesen, dieser legt fest, welche Operationen ausgeführt werden dürfen\n",
    "- Der Typ einer Größe kann mit `type()` bestimmt werden\n"
   ]
  },
  {
   "cell_type": "code",
   "execution_count": 13,
   "metadata": {},
   "outputs": [
    {
     "data": {
      "text/plain": [
       "int"
      ]
     },
     "execution_count": 13,
     "metadata": {},
     "output_type": "execute_result"
    }
   ],
   "source": [
    "type(3)"
   ]
  },
  {
   "cell_type": "code",
   "execution_count": 14,
   "metadata": {},
   "outputs": [
    {
     "data": {
      "text/plain": [
       "float"
      ]
     },
     "execution_count": 14,
     "metadata": {},
     "output_type": "execute_result"
    }
   ],
   "source": [
    "type(3.0)"
   ]
  },
  {
   "cell_type": "code",
   "execution_count": 15,
   "metadata": {},
   "outputs": [
    {
     "data": {
      "text/plain": [
       "7"
      ]
     },
     "execution_count": 15,
     "metadata": {},
     "output_type": "execute_result"
    }
   ],
   "source": [
    "#Addition/Subtraktion/Multiplikation\n",
    "#Python beachtet Punkt-Vor-Strich-Rechnung\n",
    "1+3*2"
   ]
  },
  {
   "cell_type": "code",
   "execution_count": 16,
   "metadata": {},
   "outputs": [
    {
     "data": {
      "text/plain": [
       "16"
      ]
     },
     "execution_count": 16,
     "metadata": {},
     "output_type": "execute_result"
    }
   ],
   "source": [
    "2**4"
   ]
  },
  {
   "cell_type": "code",
   "execution_count": 17,
   "metadata": {},
   "outputs": [
    {
     "data": {
      "text/plain": [
       "16"
      ]
     },
     "execution_count": 17,
     "metadata": {},
     "output_type": "execute_result"
    }
   ],
   "source": [
    "pow(2,4)"
   ]
  },
  {
   "cell_type": "markdown",
   "metadata": {},
   "source": [
    "Division ergibt immer eine Fließkomma-Zahl:"
   ]
  },
  {
   "cell_type": "code",
   "execution_count": 18,
   "metadata": {},
   "outputs": [
    {
     "data": {
      "text/plain": [
       "1.3333333333333333"
      ]
     },
     "execution_count": 18,
     "metadata": {},
     "output_type": "execute_result"
    }
   ],
   "source": [
    "4/3"
   ]
  },
  {
   "cell_type": "markdown",
   "metadata": {},
   "source": [
    "Ganzahlige Division rundet ab:"
   ]
  },
  {
   "cell_type": "code",
   "execution_count": 19,
   "metadata": {},
   "outputs": [
    {
     "data": {
      "text/plain": [
       "3"
      ]
     },
     "execution_count": 19,
     "metadata": {},
     "output_type": "execute_result"
    }
   ],
   "source": [
    "11//3"
   ]
  },
  {
   "cell_type": "markdown",
   "metadata": {},
   "source": [
    "Modulo-Division:"
   ]
  },
  {
   "cell_type": "code",
   "execution_count": 20,
   "metadata": {},
   "outputs": [
    {
     "data": {
      "text/plain": [
       "6"
      ]
     },
     "execution_count": 20,
     "metadata": {},
     "output_type": "execute_result"
    }
   ],
   "source": [
    "14%8 "
   ]
  },
  {
   "cell_type": "markdown",
   "metadata": {},
   "source": [
    "# Booleans\n",
    "\n",
    "Wahr/Falsch-Werte"
   ]
  },
  {
   "cell_type": "code",
   "execution_count": 21,
   "metadata": {},
   "outputs": [
    {
     "data": {
      "text/plain": [
       "bool"
      ]
     },
     "execution_count": 21,
     "metadata": {},
     "output_type": "execute_result"
    }
   ],
   "source": [
    "type(True)"
   ]
  },
  {
   "cell_type": "code",
   "execution_count": 22,
   "metadata": {},
   "outputs": [
    {
     "data": {
      "text/plain": [
       "True"
      ]
     },
     "execution_count": 22,
     "metadata": {},
     "output_type": "execute_result"
    }
   ],
   "source": [
    "12%3==0 # Reminder: Zuweisungen (`=`) != Gleichheits-Test (`==`)"
   ]
  },
  {
   "cell_type": "code",
   "execution_count": 23,
   "metadata": {},
   "outputs": [
    {
     "data": {
      "text/plain": [
       "False"
      ]
     },
     "execution_count": 23,
     "metadata": {},
     "output_type": "execute_result"
    }
   ],
   "source": [
    "5<=2"
   ]
  },
  {
   "cell_type": "markdown",
   "metadata": {},
   "source": [
    "# Listen\n",
    "\n",
    "Listen können beliebige Objekte enthalten, die durch Kommata getrennt werden und in eckigen Klammern eingeschlossen sind."
   ]
  },
  {
   "cell_type": "code",
   "execution_count": 24,
   "metadata": {},
   "outputs": [
    {
     "name": "stdout",
     "output_type": "stream",
     "text": [
      "[2, 4, 'a', False]\n"
     ]
    }
   ],
   "source": [
    "liste=[2,4,'a',False]\n",
    "print(liste)"
   ]
  },
  {
   "cell_type": "code",
   "execution_count": 25,
   "metadata": {},
   "outputs": [
    {
     "data": {
      "text/plain": [
       "4"
      ]
     },
     "execution_count": 25,
     "metadata": {},
     "output_type": "execute_result"
    }
   ],
   "source": [
    "len(liste) #Länge der Liste"
   ]
  },
  {
   "cell_type": "code",
   "execution_count": 26,
   "metadata": {},
   "outputs": [
    {
     "data": {
      "text/plain": [
       "2"
      ]
     },
     "execution_count": 26,
     "metadata": {},
     "output_type": "execute_result"
    }
   ],
   "source": [
    "liste[0] # Indizierung startet bei 0"
   ]
  },
  {
   "cell_type": "code",
   "execution_count": 27,
   "metadata": {},
   "outputs": [
    {
     "data": {
      "text/plain": [
       "'a'"
      ]
     },
     "execution_count": 27,
     "metadata": {},
     "output_type": "execute_result"
    }
   ],
   "source": [
    "liste[-2] # Negative Indizes zählen von rechts"
   ]
  },
  {
   "cell_type": "markdown",
   "metadata": {},
   "source": [
    "Listen können mittels *Slicing* bequem geteilt werden:\n",
    "- liste[start : stop]\n",
    "- liste[start : stop : schrittweite]"
   ]
  },
  {
   "cell_type": "code",
   "execution_count": 28,
   "metadata": {},
   "outputs": [
    {
     "name": "stdout",
     "output_type": "stream",
     "text": [
      "[2, 4, 'a', False, 2, 'x', 4, 3.0]\n"
     ]
    },
    {
     "data": {
      "text/plain": [
       "[4, False, 'x', 3.0]"
      ]
     },
     "execution_count": 28,
     "metadata": {},
     "output_type": "execute_result"
    }
   ],
   "source": [
    "liste2=liste+[2,'x',4, 3.0]\n",
    "print(liste2)\n",
    "\n",
    "liste2[1::2] #Wird start oder stop ausgelassen wird automatisch von Anfang bzw bis zum Ende gezählt"
   ]
  },
  {
   "cell_type": "code",
   "execution_count": 29,
   "metadata": {},
   "outputs": [
    {
     "data": {
      "text/plain": [
       "[2, 4, 'a', False, 2, 'x', 4, 3.0, 5]"
      ]
     },
     "execution_count": 29,
     "metadata": {},
     "output_type": "execute_result"
    }
   ],
   "source": [
    "liste2.append(5)\n",
    "liste2"
   ]
  },
  {
   "cell_type": "markdown",
   "metadata": {},
   "source": [
    "`a.+TAB` zeigt alle möglichen Methoden an, die bei diesem Opjekt verwendet werden können."
   ]
  },
  {
   "cell_type": "code",
   "execution_count": 30,
   "metadata": {},
   "outputs": [
    {
     "ename": "SyntaxError",
     "evalue": "invalid syntax (<ipython-input-30-847a753940c9>, line 1)",
     "output_type": "error",
     "traceback": [
      "\u001b[0;36m  File \u001b[0;32m\"<ipython-input-30-847a753940c9>\"\u001b[0;36m, line \u001b[0;32m1\u001b[0m\n\u001b[0;31m    liste2.\u001b[0m\n\u001b[0m           ^\u001b[0m\n\u001b[0;31mSyntaxError\u001b[0m\u001b[0;31m:\u001b[0m invalid syntax\n"
     ]
    }
   ],
   "source": [
    "liste2."
   ]
  },
  {
   "cell_type": "markdown",
   "metadata": {},
   "source": [
    "# Funktionen\n",
    "\n",
    "Sollen Code-Teile mehrfach genutzt werden, empfiehlt es sich, Funktionen zu erstellen, was das Programm übersichtlicher gestaltet und Wiederholungen vermeidet.\n",
    "\n",
    "Funktionen werden mit dem Befehl `def` eingeleitet:\n",
    "\n",
    "``` python\n",
    "def <Funktionsname>(<Argument1>, <Argument2>, ...):\n",
    "    <Befehle>\n",
    "    ...\n",
    "```\n",
    "\n",
    "- Funktionen können später über ihren Namen mit den entsprechenden Argumenten aufgerufen werden\n",
    "- Der Code-Block in der Funktion **muss** in gleicher Weise eingerückt werden\n",
    "\n",
    "```python\n",
    "return <Ausdruck>\n",
    "```\n",
    "beendet die Funktion und liefert einen Wert zurück."
   ]
  },
  {
   "cell_type": "code",
   "execution_count": 32,
   "metadata": {},
   "outputs": [
    {
     "name": "stdout",
     "output_type": "stream",
     "text": [
      "Value x= 3\n",
      "y=x^2= 9\n"
     ]
    }
   ],
   "source": [
    "def function(x):\n",
    "    print('Value x=',x)\n",
    "    return x**2\n",
    "\n",
    "\n",
    "y=function(3)\n",
    "print('y=x^2=',y)"
   ]
  },
  {
   "cell_type": "markdown",
   "metadata": {},
   "source": [
    "# Konditionale & Schleifen \n",
    "\n",
    "## if/else\n",
    "\n",
    "```python\n",
    "if <Bedingung1>:\n",
    "    <Befehle>\n",
    "    ...\n",
    "elif <Bedingung2>:\n",
    "    <Befehle>\n",
    "    ...\n",
    "elif <Bedingung3>\n",
    "    <Befehle>\n",
    "    ...\n",
    "else:\n",
    "    <Befehle>\n",
    "    ....\n",
    "```\n",
    "\n",
    "Konditionale erlauben es, Code-Teile nur auszuführen, wenn eine bestimmte Bedingung erfüllt ist.\n",
    "\n",
    "- Die `if`- / `elif`- / `else`-Blöcke werden der Reihe nach abgearbeitet.\n",
    "- Für `if` / `elif` wird die jeweilige `<Bedingung>` ausgewertet.\n",
    "- Hat diese den Wahrheitswert **falsch** (```False```), wird zum nächsten `elif`- bzw. `else`-Block gesprungen.\n",
    "- Hat diese den Wahrheitswert **wahr** (```True```) werden die Befehle des Blocks ausgeführt. Danach werden keine weiteren `elif`- oder `else`-Blöcke mehr abgearbeitet.\n",
    "- Trifft keine der Bedingungen zu, werden die Befehle des `else`-Blocks ausgeführt.\n",
    "\n",
    "Nur der `if`-Teil muss auftauchen. `elif` und `else` sind optional.\n",
    "\n",
    "## for\n",
    "\n",
    "```python\n",
    "for <Loop-Variable> in <iterable>:\n",
    "    <Befehle>\n",
    "    ...\n",
    "```\n",
    "\n",
    "- Der `for`-Loop führt den Code-Block für jedes Element der `<iterable>` einmal aus, wobei das aktuelle Element jeweils über die `<Loop-Variable>` verfügbar ist.\n",
    "- iterierbar sind zum Beispiel Listen, Tupel, Dictionaries\n"
   ]
  },
  {
   "cell_type": "code",
   "execution_count": 33,
   "metadata": {},
   "outputs": [
    {
     "name": "stdout",
     "output_type": "stream",
     "text": [
      "Die range-Funktion:\n",
      "\n",
      "range(stop) -> range object\n",
      "range(start, stop[, step]) -> range object\n",
      "\n",
      "Return an object that produces a sequence of integers from start (inclusive)\n",
      "to stop (exclusive) by step.  range(i, j) produces i, i+1, i+2, ..., j-1.\n",
      "start defaults to 0, and stop is omitted!  range(4) produces 0, 1, 2, 3.\n",
      "These are exactly the valid indices for a list of 4 elements.\n",
      "When step is given, it specifies the increment (or decrement).\n",
      "\n",
      "Und ein Bespiel für einen for-Loop:\n",
      "\n",
      "\n",
      "1\n",
      "3\n",
      "5\n",
      "7\n",
      "9\n"
     ]
    }
   ],
   "source": [
    "print(\"Die range-Funktion:\\n\\n\"+range.__doc__+\n",
    "      \"\\n\\nUnd ein Bespiel für einen for-Loop:\\n\\n\")\n",
    "\n",
    "for val in range(1,10,2): \n",
    "    print(val)"
   ]
  },
  {
   "cell_type": "markdown",
   "metadata": {},
   "source": [
    "## while\n",
    "\n",
    "\n",
    "```python\n",
    "while <Bedingung>:\n",
    "    <Befehle>\n",
    "    ...\n",
    "```\n",
    "\n",
    "- Zuerst wird die `<Bedingung>` ausgewertet. Ist diese erfüllt, wird der Code-Block ausgeführt.\n",
    "- Nach dem Ende des Blocks wird die `<Bedingung>` wieder ausgewertet.\n",
    "- Dies wiederholt sich so lange, bis die `<Bedingung>` nicht mehr erfüllt ist.\n",
    "\n",
    "Es kann also unter Umständen sein, dass der Block überhaupt nicht ausgeführt wird."
   ]
  },
  {
   "cell_type": "code",
   "execution_count": null,
   "metadata": {},
   "outputs": [],
   "source": [
    "ende=10\n",
    "i=sum=0\n",
    "\n",
    "while i<=ende:\n",
    "    sum=sum+i\n",
    "    i=i+1\n",
    "    \n",
    "print(sum)"
   ]
  },
  {
   "cell_type": "markdown",
   "metadata": {},
   "source": [
    "# Numpy\n",
    "\n",
    "*Numpy* ist eine Bibliothek die unter anderem effiziente Array-Typen zur Verfügung stellt, womit Python auch sinnvoll für wissenschaftliches Rechnen genutzt werden kann.\n",
    "Will man Bibliotheken nutzen, so müssen diese zuerst mit `import` eingebunden werden. Dabei kann man ganze Bibliotheken oder nur Teile einbinden und diese auch benennen. (So wird numpy zumeist als np bezeichnet um den Schreibaufwand zu reduzieren).\n"
   ]
  },
  {
   "cell_type": "code",
   "execution_count": 34,
   "metadata": {},
   "outputs": [
    {
     "data": {
      "text/plain": [
       "array([[1, 2, 3],\n",
       "       [4, 5, 6]])"
      ]
     },
     "execution_count": 34,
     "metadata": {},
     "output_type": "execute_result"
    }
   ],
   "source": [
    "import numpy as np \n",
    "\n",
    "a = np.array([[1,2,3],[4,5,6]]) \n",
    "a"
   ]
  },
  {
   "cell_type": "markdown",
   "metadata": {},
   "source": [
    "a ist ein 2-dimensionales Array. Mehrdimensionale Arrays können mit Numpy einfach durch verschachtelte Listen erzeugt werden."
   ]
  },
  {
   "cell_type": "code",
   "execution_count": 35,
   "metadata": {},
   "outputs": [
    {
     "data": {
      "text/plain": [
       "2"
      ]
     },
     "execution_count": 35,
     "metadata": {},
     "output_type": "execute_result"
    }
   ],
   "source": [
    "a.ndim #gibt Dimension bzw Anzahl der Achsen des Arrays an"
   ]
  },
  {
   "cell_type": "code",
   "execution_count": 36,
   "metadata": {},
   "outputs": [
    {
     "data": {
      "text/plain": [
       "(2, 3)"
      ]
     },
     "execution_count": 36,
     "metadata": {},
     "output_type": "execute_result"
    }
   ],
   "source": [
    "a.shape #gibt die Größe des Arrays entlang seiner Achsen an\n"
   ]
  },
  {
   "cell_type": "code",
   "execution_count": 37,
   "metadata": {},
   "outputs": [
    {
     "data": {
      "text/plain": [
       "array([[0., 0., 0.],\n",
       "       [0., 0., 0.]])"
      ]
     },
     "execution_count": 37,
     "metadata": {},
     "output_type": "execute_result"
    }
   ],
   "source": [
    "np.zeros((2,3)) #mit null initialisieres array\n"
   ]
  },
  {
   "cell_type": "code",
   "execution_count": 38,
   "metadata": {},
   "outputs": [
    {
     "data": {
      "text/plain": [
       "array([[1., 1., 1., 1., 1.],\n",
       "       [1., 1., 1., 1., 1.],\n",
       "       [1., 1., 1., 1., 1.],\n",
       "       [1., 1., 1., 1., 1.]])"
      ]
     },
     "execution_count": 38,
     "metadata": {},
     "output_type": "execute_result"
    }
   ],
   "source": [
    "np.ones((4,5)) # mit eins initialisiertes array"
   ]
  },
  {
   "cell_type": "markdown",
   "metadata": {},
   "source": [
    "**linspace**\n",
    "```python\n",
    "numpy.linspace(start, stop, npoints)\n",
    "```\n",
    "liefert äquidistante Punkte in einem gegebenen Intervall:"
   ]
  },
  {
   "cell_type": "code",
   "execution_count": 41,
   "metadata": {},
   "outputs": [
    {
     "data": {
      "text/plain": [
       "array([-5. , -4.5, -4. , -3.5, -3. , -2.5, -2. , -1.5, -1. , -0.5,  0. ,\n",
       "        0.5,  1. ,  1.5,  2. ,  2.5,  3. ,  3.5,  4. ,  4.5,  5. ])"
      ]
     },
     "execution_count": 41,
     "metadata": {},
     "output_type": "execute_result"
    }
   ],
   "source": [
    "#print(np.linspace.__docstring__)\n",
    "np.linspace(-5,5,21)"
   ]
  },
  {
   "cell_type": "code",
   "execution_count": 42,
   "metadata": {},
   "outputs": [
    {
     "data": {
      "text/plain": [
       "array([ 0,  2,  4,  6,  8, 10])"
      ]
     },
     "execution_count": 42,
     "metadata": {},
     "output_type": "execute_result"
    }
   ],
   "source": [
    "array=np.arange(12) # ähnlich wie range, gibt aber array zurück\n",
    "array[::2] # slicing funktioniert wie bei Listen  "
   ]
  },
  {
   "cell_type": "code",
   "execution_count": 43,
   "metadata": {},
   "outputs": [
    {
     "name": "stdout",
     "output_type": "stream",
     "text": [
      "(12,)\n",
      "(3, 4)\n"
     ]
    },
    {
     "data": {
      "text/plain": [
       "array([[ 0,  1,  2,  3],\n",
       "       [ 4,  5,  6,  7],\n",
       "       [ 8,  9, 10, 11]])"
      ]
     },
     "execution_count": 43,
     "metadata": {},
     "output_type": "execute_result"
    }
   ],
   "source": [
    "print(array.shape)\n",
    "array.shape= (3,4) # == array= array.reshape(3,4)\n",
    "print(array.shape)\n",
    "array"
   ]
  },
  {
   "cell_type": "markdown",
   "metadata": {},
   "source": [
    "Vorsicht! Zuweisungen von array erzeugen keine Kopie des Array sondern lediglich eine Referenz. Will man eine Kopie, kann dies durch `array.copy`erzielt werden."
   ]
  },
  {
   "cell_type": "code",
   "execution_count": null,
   "metadata": {},
   "outputs": [],
   "source": [
    "a = np.arange(5)\n",
    "print(a)\n",
    "b = a\n",
    "c=a.copy()\n",
    "b[2] = -1\n",
    "print(a)\n",
    "print(c)"
   ]
  },
  {
   "cell_type": "markdown",
   "metadata": {},
   "source": [
    "## Elementare Operationen\n",
    "\n",
    "Die meisten operationen wie `+,-,*` werden elementweise durchgeführt. Dafür ist es meist erforderlich, dass die beiden array die gleiche `.shape` haben"
   ]
  },
  {
   "cell_type": "code",
   "execution_count": null,
   "metadata": {},
   "outputs": [],
   "source": [
    "np.array([2,3,4])+np.array([4,5,6]) "
   ]
  },
  {
   "cell_type": "code",
   "execution_count": 44,
   "metadata": {},
   "outputs": [
    {
     "data": {
      "text/plain": [
       "array([ 0.        ,  0.84147098,  0.90929743,  0.14112001, -0.7568025 ])"
      ]
     },
     "execution_count": 44,
     "metadata": {},
     "output_type": "execute_result"
    }
   ],
   "source": [
    "np.sin(np.arange(5))"
   ]
  },
  {
   "cell_type": "markdown",
   "metadata": {},
   "source": [
    "Es gibt viele nützliche Funktionen für array. Es folgen ein paar Beispiele:"
   ]
  },
  {
   "cell_type": "code",
   "execution_count": null,
   "metadata": {},
   "outputs": [],
   "source": [
    "brray=np.arange(12).reshape(3,4)\n",
    "print(brray)"
   ]
  },
  {
   "cell_type": "code",
   "execution_count": null,
   "metadata": {},
   "outputs": [],
   "source": [
    "# summieren von Elementen\n",
    "\n",
    "print(np.sum(brray)) # Summe über alle Elemente\n",
    "\n",
    "print(np.sum(brray,axis=1)) #axis=1 enspricht der Summation der Zeilenvektoren (axis=0 Spaltenvektoren resp.)\n",
    "\n"
   ]
  },
  {
   "cell_type": "markdown",
   "metadata": {},
   "source": [
    "## Broadcasting\n",
    "\n",
    "Stimmen die Dimensionen zweier Arrays nicht überein und ist ein Array in einer Dimension ein Singleton wir dieses dupliziert und somit der Größe des zweiter arrays angepasst."
   ]
  },
  {
   "cell_type": "code",
   "execution_count": null,
   "metadata": {},
   "outputs": [],
   "source": [
    "a=np.arange(6).reshape(2,3)\n",
    "print(a)\n",
    "b=np.arange(3)\n",
    "print(b)\n",
    "\n",
    "print(a+b)"
   ]
  },
  {
   "cell_type": "markdown",
   "metadata": {},
   "source": [
    "## Matrix-Operationen\n",
    "\n",
    "Numpy und scipy bringen viele Funktionalitäten bezüglich Matrizen mit. Es lohnt sich hier ein weiterführendes Tutorial anzuschauen!\n"
   ]
  },
  {
   "cell_type": "code",
   "execution_count": null,
   "metadata": {},
   "outputs": [],
   "source": [
    "# Dot-Produkt. Seit python 3.5 kann man auch @ als Operator verwenden\n",
    "\n",
    "v=np.array([1,2,3])\n",
    "v.dot(v) #für Vektoren wird das Skalarprodukt berechnet\n",
    "\n",
    "a=np.arange(6).reshape(2,3)\n",
    "b=np.arange(10,16).reshape(3,2)\n",
    "print(a)\n",
    "print(b)\n",
    "\n",
    "\n",
    "print(np.dot(a,b)) # == a.dot(b)==a@b\n",
    "\n",
    "# Determinante\n",
    "from numpy.linalg import det\n",
    "det(np.arange(9).reshape(3,3))\n"
   ]
  },
  {
   "cell_type": "markdown",
   "metadata": {},
   "source": [
    "# Plots\n",
    "\n",
    "Es gibt viele verschiedene Module mit unterschieldichen Funktionen, Stärken und Schwächen. Ein vielseitiges und häufig verwendetes Modul ist matplotlib. Auch hier empfiehlt es sich, einschlägige Tutorials anzuschauen um einen Überblick über die Funktionalität zu erlangen.\n",
    "Im folgenden ein simples Beispiel:"
   ]
  },
  {
   "cell_type": "code",
   "execution_count": 48,
   "metadata": {},
   "outputs": [
    {
     "data": {
      "image/png": "[encoded data removed]",
      "text/plain": [
       "<Figure size 432x288 with 1 Axes>"
      ]
     },
     "metadata": {},
     "output_type": "display_data"
    }
   ],
   "source": [
    "import matplotlib.pyplot as plt #matplotlib wird meistens plt benannt\n",
    "import numpy as np\n",
    "from numpy import linspace, pi\n",
    "\n",
    "# Siehe Übungsblatt 4.3:\n",
    "\n",
    "def func(phi, alpha, a=1):\n",
    "    r=a*np.exp(-phi/alpha)\n",
    "    # Funktion gibt x/y-Koordinaten-Tupel zurück\n",
    "    return np.cos(phi)*r, np.sin(phi)*r\n",
    "\n",
    "\n",
    "\n",
    "# plt.plot bekommt als x und y die Rückgabewerte unserer Funktion func\n",
    "# `*` fügt die beiden Elemente des Rückgabewertes als separate Argumente ein\n",
    "plt.plot(*func(linspace(0, 5*pi, 10000), alpha=10),label='alpha=10')\n",
    "plt.plot(*func(linspace(0, 5*pi, 10000), alpha=-10),label='alpha=-10')\n",
    "plt.plot(*func(linspace(0, 5*pi, 10000), alpha=-1000),'--',label='alpha=-1000')\n",
    "\n",
    "plt.xlim(-4, 4)\n",
    "plt.xlabel('x')\n",
    "plt.ylabel('y')\n",
    "plt.ylim(-5, 5)\n",
    "plt.title(\"Bahnkurve \" +r\"$e^{-\\frac{\\phi}{\\alpha}}$\"+\"\\n\", fontsize=20)\n",
    "plt.legend()\n",
    "plt.show()\n",
    "\n",
    "\n"
   ]
  },
  {
   "cell_type": "code",
   "execution_count": null,
   "metadata": {},
   "outputs": [],
   "source": []
  }
 ],
 "metadata": {
  "kernelspec": {
   "display_name": "Python 3",
   "language": "python",
   "name": "python3"
  },
  "language_info": {
   "codemirror_mode": {
    "name": "ipython",
    "version": 3
   },
   "file_extension": ".py",
   "mimetype": "text/x-python",
   "name": "python",
   "nbconvert_exporter": "python",
   "pygments_lexer": "ipython3",
   "version": "3.5.2"
  }
 },
 "nbformat": 4,
 "nbformat_minor": 2
}
